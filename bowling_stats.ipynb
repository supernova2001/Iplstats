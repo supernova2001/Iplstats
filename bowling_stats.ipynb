{
 "cells": [
  {
   "cell_type": "code",
   "execution_count": 1,
   "id": "483408d4",
   "metadata": {},
   "outputs": [],
   "source": [
    "import requests \n",
    "from bs4 import BeautifulSoup\n",
    "from openpyxl import Workbook"
   ]
  },
  {
   "cell_type": "code",
   "execution_count": 5,
   "id": "89fb0edd",
   "metadata": {},
   "outputs": [],
   "source": [
    "url1 = \"https://www.cricketworld.com/cricket/series/indian-premier-league-2023/stats/bowling-top-wicket-takers/127579\"\n",
    "response1 = requests.get(url1)\n",
    "html_content = response1.content"
   ]
  },
  {
   "cell_type": "code",
   "execution_count": 8,
   "id": "fece655c",
   "metadata": {},
   "outputs": [],
   "source": [
    "soup1 = BeautifulSoup(html_content,\"html.parser\")\n",
    "highestwickets = soup1.find_all(\"table\",{\"class\": \"rankingTable batting_highest_strikerate\"})"
   ]
  },
  {
   "cell_type": "code",
   "execution_count": 13,
   "id": "6244ecb2",
   "metadata": {},
   "outputs": [],
   "source": [
    "from openpyxl import Workbook\n",
    "\n",
    "wb = Workbook()\n",
    "ws = wb.active\n",
    "\n",
    "# Find all rows in the first table (assuming there's only one table)\n",
    "rows = highestwickets[0].find_all('tr')\n",
    "\n",
    "# Find column headers from rows with class 'tableHeader'\n",
    "column_headers = None\n",
    "for row in rows:\n",
    "    if row.has_attr('class') and 'tableHeader' in row['class']:\n",
    "        column_headers = [th.get_text(strip=True) for th in row.find_all('th')]\n",
    "        break\n",
    "\n",
    "# Write column headers to Excel\n",
    "for j, header in enumerate(column_headers, start=1):\n",
    "    ws.cell(row=1, column=j, value=header)\n",
    "\n",
    "# Write table data to Excel\n",
    "for i, row in enumerate(rows, start=2):  # Starting from row 2 for data\n",
    "    cells = row.find_all(['th', 'td'])\n",
    "    for j, cell in enumerate(cells, start=1):\n",
    "        # Extract text content from each cell\n",
    "        cell_text = cell.get_text(strip=True)\n",
    "        # Replace \"-\" with \"0\"\n",
    "        cell_text = cell_text.replace(\"-\", \"0\")\n",
    "        # Push text content into Excel\n",
    "        ws.cell(row=i, column=j, value=cell_text)\n",
    "        \n",
    "path = \"bowling_stats.xlsx\"\n",
    "wb.save(path)"
   ]
  },
  {
   "cell_type": "code",
   "execution_count": null,
   "id": "cafcf3fa",
   "metadata": {},
   "outputs": [],
   "source": []
  }
 ],
 "metadata": {
  "kernelspec": {
   "display_name": "Python 3 (ipykernel)",
   "language": "python",
   "name": "python3"
  },
  "language_info": {
   "codemirror_mode": {
    "name": "ipython",
    "version": 3
   },
   "file_extension": ".py",
   "mimetype": "text/x-python",
   "name": "python",
   "nbconvert_exporter": "python",
   "pygments_lexer": "ipython3",
   "version": "3.11.4"
  }
 },
 "nbformat": 4,
 "nbformat_minor": 5
}
